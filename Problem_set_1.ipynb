{
 "cells": [
  {
   "cell_type": "code",
   "execution_count": null,
   "id": "2872f4e1",
   "metadata": {},
   "outputs": [],
   "source": [
    "#Question 6\n",
    "\n",
    "\n",
    "list = input (\"Enetr the string to be converted to piglatin : \"); \n",
    "vowels = (\"a\",\"e\",\"i\",\"o\",\"u\",\"A\",\"E\",\"I\",\"O\",\"U\") \n",
    "x = list.split() \n",
    "for i in list.split(): \n",
    "    if i[0] in 'vowels':\n",
    "        print (\"The word is starting with vowel\") \n",
    "        print (i+\"way\") \n",
    "    else: \n",
    "        print (\"The word is starting with consonant\") \n",
    "        print (i[1:]+i[0]+\"ay\")"
   ]
  },
  {
   "cell_type": "code",
   "execution_count": null,
   "id": "611597e2",
   "metadata": {},
   "outputs": [],
   "source": [
    "# Question 7\n",
    "\n",
    "def bldcount(bloodtype): \n",
    "    infile = open(bloodtype, 'r') \n",
    "    content = infile.read() \n",
    "    infile.close() \n",
    "    content = content.split() \n",
    "    bloodtype = ['A','B','AB','O','OO'] \n",
    "    for i in bloodtype: \n",
    "        if content.count(i)==0: \n",
    "            print ('There are no patients of blood type', i+'.') \n",
    "        else: \n",
    "            if content.count(i)==1: \n",
    "                print ('There is 1 patient of blood type', i+'.') \n",
    "            else: \n",
    "                print ('There are', content.count(i),'patients of blood type', i+'.')\n",
    "\n",
    "bldcount('bloodtype.txt')"
   ]
  },
  {
   "cell_type": "code",
   "execution_count": null,
   "id": "ad791edc",
   "metadata": {},
   "outputs": [],
   "source": [
    "# Question 8\n",
    "\n",
    "def concurv(currencies): \n",
    "    infile = open(currencies, 'r') \n",
    "    content = infile.read() \n",
    "    infile.close() \n",
    "    from_country = input(\"from country:\").upper() \n",
    "    to_country = input(\"to country:\").upper() \n",
    "    amount = int (input(\"amount:\")) \n",
    "    print (from_country,\" to \", to_country, amount) \n",
    "    result = c.convert(from_currency,to_currency,amount) \n",
    "    print (result)\n",
    "\n",
    "concurv('currencies.txt')"
   ]
  },
  {
   "cell_type": "code",
   "execution_count": null,
   "id": "e95f8ead",
   "metadata": {},
   "outputs": [],
   "source": [
    "# Question 9\n",
    "\n",
    "a. Syntax error \n",
    "b. Index error \n",
    "c. Index error \n",
    "d. Syntax error \n",
    "e. Name error"
   ]
  },
  {
   "cell_type": "code",
   "execution_count": null,
   "id": "2fbea9c1",
   "metadata": {},
   "outputs": [],
   "source": [
    "# Question 10\n",
    "\n",
    "\n",
    "test_str = \"the quick red fox got bored and went home\" \n",
    "all_freq = {} \n",
    "for i in test_str: \n",
    "    if i in all_freq: \n",
    "        all_freq[i] += 1 \n",
    "    else: \n",
    "        all_freq[i] = 1 \n",
    "print (\"Count of all characters is :\\n \" + str(all_freq))"
   ]
  }
 ],
 "metadata": {
  "kernelspec": {
   "display_name": "Python 3",
   "language": "python",
   "name": "python3"
  },
  "language_info": {
   "codemirror_mode": {
    "name": "ipython",
    "version": 3
   },
   "file_extension": ".py",
   "mimetype": "text/x-python",
   "name": "python",
   "nbconvert_exporter": "python",
   "pygments_lexer": "ipython3",
   "version": "3.8.8"
  }
 },
 "nbformat": 4,
 "nbformat_minor": 5
}
